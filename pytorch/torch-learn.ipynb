{
 "cells": [
  {
   "cell_type": "code",
   "execution_count": 141,
   "outputs": [
    {
     "name": "stdout",
     "output_type": "stream",
     "text": [
      "Help on built-in function unfold:\n",
      "\n",
      "unfold(...) method of torch.Tensor instance\n",
      "    unfold(dimension, size, step) -> Tensor\n",
      "    \n",
      "    Returns a view of the original tensor which contains all slices of size :attr:`size` from\n",
      "    :attr:`self` tensor in the dimension :attr:`dimension`.\n",
      "    \n",
      "    Step between two slices is given by :attr:`step`.\n",
      "    \n",
      "    If `sizedim` is the size of dimension :attr:`dimension` for :attr:`self`, the size of\n",
      "    dimension :attr:`dimension` in the returned tensor will be\n",
      "    `(sizedim - size) / step + 1`.\n",
      "    \n",
      "    An additional dimension of size :attr:`size` is appended in the returned tensor.\n",
      "    \n",
      "    Args:\n",
      "        dimension (int): dimension in which unfolding happens\n",
      "        size (int): the size of each slice that is unfolded\n",
      "        step (int): the step between each slice\n",
      "    \n",
      "    Example::\n",
      "    \n",
      "        >>> x = torch.arange(1., 8)\n",
      "        >>> x\n",
      "        tensor([ 1.,  2.,  3.,  4.,  5.,  6.,  7.])\n",
      "        >>> x.unfold(0, 2, 1)\n",
      "        tensor([[ 1.,  2.],\n",
      "                [ 2.,  3.],\n",
      "                [ 3.,  4.],\n",
      "                [ 4.,  5.],\n",
      "                [ 5.,  6.],\n",
      "                [ 6.,  7.]])\n",
      "        >>> x.unfold(0, 2, 2)\n",
      "        tensor([[ 1.,  2.],\n",
      "                [ 3.,  4.],\n",
      "                [ 5.,  6.]])\n",
      "\n"
     ]
    }
   ],
   "source": [
    "import torch as t\n",
    "\n",
    "# a = t.tensor(2.,requires_grad=True)\n",
    "# b = a**2\n",
    "# c = b.sum()\n",
    "# # c.backward()\n",
    "# t.autograd.grad(c,b)\n",
    "x = t.randn(2, 3, 5, 5)\n",
    "help(x.unfold)\n",
    "# print(x)\n",
    "# a = x.unfold(2, 3, 1)\n",
    "# print(a.shape)"
   ],
   "metadata": {
    "collapsed": false,
    "pycharm": {
     "name": "#%%\n"
    }
   }
  },
  {
   "cell_type": "markdown",
   "source": [
    "$\\mathrm{erf}(x) = \\frac{2}{\\sqrt{\\pi}} \\int_{0}^{x} e^{-t^2} dt$\n",
    "\n",
    "$\\mathrm{erfinv}(\\mathrm{erf}(x)) = x$\n",
    "\n",
    "$y_{i} = e^{x_{i}}$\n",
    "\n",
    "$y_{i} = e^{x_{i}} - 1$\n",
    "\n",
    "$\\text{out}_{i} = \\text{input}_{i} - \\left\\lfloor |\\text{input}_{i}| \\right\\rfloor * \\operatorname{sgn}(\\text{input}_{i})$\n",
    "\n",
    "$y_{i} = \\log_{e} (x_{i})$\n",
    "\n",
    "$y_{i} = \\log_{10} (x_{i})$\n",
    "\n",
    "$y_i = \\log_{e} (x_i + 1)$\n",
    "\n",
    "$\\text{logsumexp}(x)_{i} = \\log \\sum_j \\exp(x_{ij})$"
   ],
   "metadata": {
    "collapsed": false
   }
  },
  {
   "cell_type": "code",
   "execution_count": 95,
   "outputs": [
    {
     "name": "stdout",
     "output_type": "stream",
     "text": [
      "tensor([[0.3176, 0.0000, 0.0000],\n",
      "        [0.0000, 1.5142, 0.4916]], grad_fn=<ReluBackward>)\n",
      "tensor([[1., 1., 1.],\n",
      "        [1., 1., 1.]])\n"
     ]
    },
    {
     "data": {
      "text/plain": "tensor([[1., 0., 0.],\n        [0., 1., 1.]])"
     },
     "execution_count": 95,
     "metadata": {},
     "output_type": "execute_result"
    }
   ],
   "source": [
    "class Relu(t.autograd.Function):\n",
    "    @staticmethod\n",
    "    def forward(ctx, input):\n",
    "        output = t.clamp(input, min=0)\n",
    "        ctx.save_for_backward(output)\n",
    "        return output\n",
    "\n",
    "    @staticmethod\n",
    "    def backward(ctx, grad_output):\n",
    "        output = ctx.saved_tensors[0]\n",
    "        print(output)\n",
    "        print(grad_output)\n",
    "        return (output > 0).float() * grad_output\n",
    "\n",
    "\n",
    "x = t.randn(2, 3, requires_grad=True)\n",
    "y = Relu.apply(x)\n",
    "loss = y.sum()\n",
    "loss.backward()\n",
    "x\n",
    "x.grad\n"
   ],
   "metadata": {
    "collapsed": false,
    "pycharm": {
     "name": "#%%\n"
    }
   }
  },
  {
   "cell_type": "code",
   "execution_count": 131,
   "outputs": [
    {
     "data": {
      "text/plain": "(torch.Size([4, 4]), torch.Size([4, 4]))"
     },
     "execution_count": 131,
     "metadata": {},
     "output_type": "execute_result"
    }
   ],
   "source": [
    "m = t.arange(16).view(4, 4)\n",
    "m.shape, m.size()"
   ],
   "metadata": {
    "collapsed": false,
    "pycharm": {
     "name": "#%%\n"
    }
   }
  }
 ],
 "metadata": {
  "kernelspec": {
   "display_name": "Python 3",
   "language": "python",
   "name": "python3"
  },
  "language_info": {
   "codemirror_mode": {
    "name": "ipython",
    "version": 2
   },
   "file_extension": ".py",
   "mimetype": "text/x-python",
   "name": "python",
   "nbconvert_exporter": "python",
   "pygments_lexer": "ipython2",
   "version": "2.7.6"
  }
 },
 "nbformat": 4,
 "nbformat_minor": 0
}