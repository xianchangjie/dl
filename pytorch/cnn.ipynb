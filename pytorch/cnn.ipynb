{
 "cells": [
  {
   "cell_type": "code",
   "execution_count": 28,
   "metadata": {
    "collapsed": true
   },
   "outputs": [],
   "source": [
    "import torch as t\n",
    "from torch import Tensor\n",
    "import torch.nn.functional as F\n",
    "\n",
    "\n",
    "def conv2d(x: Tensor,\n",
    "           weight: Tensor,\n",
    "           bias: Tensor,\n",
    "           stride: int,\n",
    "           pad: int):\n",
    "    n, c, h, w = x.shape\n",
    "    d, c, k, j = weight.shape\n",
    "    x_pad = t.zeros(n, c, h + 2 * pad, w + 2 * pad)\n",
    "    x_pad[:, :, pad:-pad, pad:-pad] = x\n",
    "    x_pad = x_pad.unfold(2, k, stride)\n",
    "    x_pad = x_pad.unfold(3, j, stride)\n",
    "    out = t.einsum('nchwkj,dckj->ndhw', x_pad, weight)\n",
    "    out = out + bias.view(1, -1, 1, 1)\n",
    "    return out\n",
    "\n",
    "\n",
    "x = t.randn(2, 3, 5, 5)\n",
    "w = t.randn(4, 3, 3, 3)\n",
    "b = t.randn(4)\n",
    "\n",
    "stride = 2\n",
    "pad = 1\n",
    "\n",
    "out = conv2d(x, w, b, stride, pad)\n",
    "out2 = F.conv2d(x, w, b, stride, pad)\n"
   ]
  }
 ],
 "metadata": {
  "kernelspec": {
   "display_name": "Python 3",
   "language": "python",
   "name": "python3"
  },
  "language_info": {
   "codemirror_mode": {
    "name": "ipython",
    "version": 2
   },
   "file_extension": ".py",
   "mimetype": "text/x-python",
   "name": "python",
   "nbconvert_exporter": "python",
   "pygments_lexer": "ipython2",
   "version": "2.7.6"
  }
 },
 "nbformat": 4,
 "nbformat_minor": 0
}